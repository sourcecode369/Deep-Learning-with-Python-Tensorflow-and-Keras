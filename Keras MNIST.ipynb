{
 "cells": [
  {
   "cell_type": "code",
   "execution_count": 2,
   "metadata": {},
   "outputs": [],
   "source": [
    "import tensorflow as tf"
   ]
  },
  {
   "cell_type": "code",
   "execution_count": 3,
   "metadata": {},
   "outputs": [],
   "source": [
    "from tensorflow import keras"
   ]
  },
  {
   "cell_type": "code",
   "execution_count": 4,
   "metadata": {},
   "outputs": [],
   "source": [
    "mnist = keras.datasets.mnist"
   ]
  },
  {
   "cell_type": "code",
   "execution_count": 6,
   "metadata": {},
   "outputs": [],
   "source": [
    "(X_train, y_train), (X_test, Y_test) = mnist.load_data()"
   ]
  },
  {
   "cell_type": "code",
   "execution_count": 8,
   "metadata": {},
   "outputs": [],
   "source": [
    "X_train, X_test = X_train/255.0, X_test/255.0"
   ]
  },
  {
   "cell_type": "code",
   "execution_count": 39,
   "metadata": {},
   "outputs": [],
   "source": [
    "model = keras.models.Sequential([\n",
    "                                 keras.layers.Flatten(),\n",
    "                                 keras.layers.Dense(200,activation=tf.nn.relu,use_bias=True),\n",
    "                                 keras.layers.Dense(500,activation=tf.nn.relu,use_bias=True),\n",
    "                                 keras.layers.Dense(1000,activation=tf.nn.relu,use_bias=True),\n",
    "                                 keras.layers.BatchNormalization(),\n",
    "                                 keras.layers.Dropout(0.2),\n",
    "                                 keras.layers.Dense(10,activation=tf.nn.softmax)\n",
    "                                ])"
   ]
  },
  {
   "cell_type": "code",
   "execution_count": 40,
   "metadata": {},
   "outputs": [],
   "source": [
    "model.compile(optimizer='adam',loss='sparse_categorical_crossentropy',metrics=['accuracy'])"
   ]
  },
  {
   "cell_type": "code",
   "execution_count": 41,
   "metadata": {},
   "outputs": [
    {
     "name": "stdout",
     "output_type": "stream",
     "text": [
      "Epoch 1/5\n",
      "60000/60000 [==============================] - 60s 995us/step - loss: 0.2381 - acc: 0.92850s - loss: 0.23\n",
      "Epoch 2/5\n",
      "60000/60000 [==============================] - 60s 1ms/step - loss: 0.1143 - acc: 0.9662\n",
      "Epoch 3/5\n",
      "60000/60000 [==============================] - 61s 1ms/step - loss: 0.0891 - acc: 0.9732: 1s - loss: 0.08\n",
      "Epoch 4/5\n",
      "60000/60000 [==============================] - 60s 999us/step - loss: 0.0712 - acc: 0.9789\n",
      "Epoch 5/5\n",
      "60000/60000 [==============================] - 60s 1ms/step - loss: 0.0572 - acc: 0.9825\n"
     ]
    },
    {
     "data": {
      "text/plain": [
       "<tensorflow.python.keras.callbacks.History at 0x171670001d0>"
      ]
     },
     "execution_count": 41,
     "metadata": {},
     "output_type": "execute_result"
    }
   ],
   "source": [
    "model.fit(X_train,y_train,epochs=5)"
   ]
  },
  {
   "cell_type": "code",
   "execution_count": 42,
   "metadata": {},
   "outputs": [
    {
     "name": "stdout",
     "output_type": "stream",
     "text": [
      "_________________________________________________________________\n",
      "Layer (type)                 Output Shape              Param #   \n",
      "=================================================================\n",
      "flatten_6 (Flatten)          (None, 784)               0         \n",
      "_________________________________________________________________\n",
      "dense_29 (Dense)             (None, 200)               157000    \n",
      "_________________________________________________________________\n",
      "dense_30 (Dense)             (None, 500)               100500    \n",
      "_________________________________________________________________\n",
      "dense_31 (Dense)             (None, 1000)              501000    \n",
      "_________________________________________________________________\n",
      "batch_normalization_26 (Batc (None, 1000)              4000      \n",
      "_________________________________________________________________\n",
      "dropout_21 (Dropout)         (None, 1000)              0         \n",
      "_________________________________________________________________\n",
      "dense_32 (Dense)             (None, 10)                10010     \n",
      "=================================================================\n",
      "Total params: 772,510\n",
      "Trainable params: 770,510\n",
      "Non-trainable params: 2,000\n",
      "_________________________________________________________________\n"
     ]
    }
   ],
   "source": [
    "model.summary()"
   ]
  },
  {
   "cell_type": "code",
   "execution_count": 43,
   "metadata": {},
   "outputs": [
    {
     "name": "stdout",
     "output_type": "stream",
     "text": [
      "10000/10000 [==============================] - 2s 223us/step\n"
     ]
    },
    {
     "data": {
      "text/plain": [
       "[0.07882218789065955, 0.977]"
      ]
     },
     "execution_count": 43,
     "metadata": {},
     "output_type": "execute_result"
    }
   ],
   "source": [
    "model.evaluate(X_test,y_test)"
   ]
  }
 ],
 "metadata": {
  "kernelspec": {
   "display_name": "Python 3",
   "language": "python",
   "name": "python3"
  },
  "language_info": {
   "codemirror_mode": {
    "name": "ipython",
    "version": 3
   },
   "file_extension": ".py",
   "mimetype": "text/x-python",
   "name": "python",
   "nbconvert_exporter": "python",
   "pygments_lexer": "ipython3",
   "version": "3.5.2"
  },
  "widgets": {
   "state": {},
   "version": "1.1.2"
  }
 },
 "nbformat": 4,
 "nbformat_minor": 2
}
