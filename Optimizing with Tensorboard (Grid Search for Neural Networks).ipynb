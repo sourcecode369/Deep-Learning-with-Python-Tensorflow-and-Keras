{
 "cells": [
  {
   "cell_type": "code",
   "execution_count": 1,
   "metadata": {},
   "outputs": [],
   "source": [
    "import tensorflow as tf"
   ]
  },
  {
   "cell_type": "code",
   "execution_count": 2,
   "metadata": {},
   "outputs": [],
   "source": [
    "from tensorflow.keras.models import Sequential\n",
    "from tensorflow.keras.layers import Dense, Dropout, Activation, Flatten, Conv2D, MaxPool2D\n",
    "from tensorflow.keras.callbacks import TensorBoard\n",
    "from tensorflow.keras.callbacks import ReduceLROnPlateau\n",
    "import pickle\n",
    "import time\n",
    "\n",
    "# model_name = \"ConvNet-64x2-{}\".format(int(time.time()))\n",
    "\n",
    "\n",
    "x = pickle.load(open('X.pickle',\"rb\"))\n",
    "y = pickle.load(open('y.pickle',\"rb\"))\n"
   ]
  },
  {
   "cell_type": "code",
   "execution_count": 3,
   "metadata": {},
   "outputs": [],
   "source": [
    "x = x/255.0"
   ]
  },
  {
   "cell_type": "code",
   "execution_count": 4,
   "metadata": {},
   "outputs": [],
   "source": [
    "import time\n",
    "\n",
    "dense_layers = [0,1,2]\n",
    "layer_sizes = [32,64,128]\n",
    "conv_layers = [1,2,3]\n"
   ]
  },
  {
   "cell_type": "code",
   "execution_count": null,
   "metadata": {},
   "outputs": [
    {
     "name": "stdout",
     "output_type": "stream",
     "text": [
      "Train on 9000 samples, validate on 1000 samples\n",
      "Epoch 1/2\n",
      "9000/9000 [==============================] - 22s 2ms/step - loss: 0.6664 - acc: 0.5896 - val_loss: 0.6353 - val_acc: 0.6380\n",
      "Epoch 2/2\n",
      "9000/9000 [==============================] - 22s 2ms/step - loss: 0.6163 - acc: 0.6714 - val_loss: 0.6066 - val_acc: 0.6720\n",
      "Train on 9000 samples, validate on 1000 samples\n",
      "Epoch 1/2\n",
      "9000/9000 [==============================] - 202s 22ms/step - loss: 0.6732 - acc: 0.5826 - val_loss: 0.6337 - val_acc: 0.6350\n",
      "Epoch 2/2\n",
      "9000/9000 [==============================] - 215s 24ms/step - loss: 0.6021 - acc: 0.6791 - val_loss: 0.5916 - val_acc: 0.6750\n",
      "Train on 9000 samples, validate on 1000 samples\n",
      "Epoch 1/2\n",
      "9000/9000 [==============================] - 366s 41ms/step - loss: 0.6880 - acc: 0.5343 - val_loss: 0.6900 - val_acc: 0.5160\n",
      "Epoch 2/2\n",
      "9000/9000 [==============================] - 386s 43ms/step - loss: 0.6513 - acc: 0.6224 - val_loss: 0.6257 - val_acc: 0.6560\n",
      "Train on 9000 samples, validate on 1000 samples\n",
      "Epoch 1/2\n",
      "9000/9000 [==============================] - 50s 6ms/step - loss: 0.6640 - acc: 0.5902 - val_loss: 0.6632 - val_acc: 0.5750\n",
      "Epoch 2/2\n",
      "9000/9000 [==============================] - 50s 6ms/step - loss: 0.5959 - acc: 0.6902 - val_loss: 0.5921 - val_acc: 0.6770\n",
      "Train on 9000 samples, validate on 1000 samples\n",
      "Epoch 1/2\n",
      "9000/9000 [==============================] - 102s 11ms/step - loss: 0.6641 - acc: 0.5890 - val_loss: 0.6205 - val_acc: 0.6570\n",
      "Epoch 2/2\n",
      "9000/9000 [==============================] - 104s 12ms/step - loss: 0.5949 - acc: 0.6872 - val_loss: 0.5673 - val_acc: 0.6970\n",
      "Train on 9000 samples, validate on 1000 samples\n",
      "Epoch 1/2\n",
      "9000/9000 [==============================] - 261s 29ms/step - loss: 0.6746 - acc: 0.5751 - val_loss: 0.6809 - val_acc: 0.5560\n",
      "Epoch 2/2\n",
      "9000/9000 [==============================] - 237s 26ms/step - loss: 0.6215 - acc: 0.6514 - val_loss: 0.5892 - val_acc: 0.6850\n",
      "Train on 9000 samples, validate on 1000 samples\n",
      "Epoch 1/2\n",
      "9000/9000 [==============================] - 79s 9ms/step - loss: 0.6585 - acc: 0.6241 - val_loss: 0.6087 - val_acc: 0.6720\n",
      "Epoch 2/2\n",
      "9000/9000 [==============================] - 73s 8ms/step - loss: 0.5865 - acc: 0.6960 - val_loss: 0.5793 - val_acc: 0.7080\n",
      "Train on 9000 samples, validate on 1000 samples\n",
      "Epoch 1/2\n",
      "9000/9000 [==============================] - 188s 21ms/step - loss: 0.6649 - acc: 0.5861 - val_loss: 0.6174 - val_acc: 0.6530\n",
      "Epoch 2/2\n",
      "5632/9000 [=================>............] - ETA: 1:08 - loss: 0.6188 - acc: 0.6580"
     ]
    }
   ],
   "source": [
    "for dense_layer in dense_layers:\n",
    "    for layer_size in layer_sizes:\n",
    "        for conv_layer in conv_layers:\n",
    "            NAME = \"{}-conv-{}-nodes-{}-dense-{}\".format(conv_layer,layer_size,dense_layer,int(time.time()))\n",
    "            tensorboard = TensorBoard(log_dir=\"./optimizing models/{}\".format(NAME))\n",
    "            # print(NAME)\n",
    "            \n",
    "            model = Sequential()\n",
    "\n",
    "            model.add(Conv2D(layer_size, (3,3), input_shape = x.shape[1:]))\n",
    "            model.add(Activation(\"relu\"))\n",
    "            model.add(MaxPool2D(pool_size=(2,2)))\n",
    "            \n",
    "            for l in range(conv_layer-1):\n",
    "                model.add(Conv2D(layer_size, (3,3), input_shape = x.shape[1:]))\n",
    "                model.add(Activation(\"relu\"))\n",
    "                model.add(MaxPool2D(pool_size=(2,2)))\n",
    "            \n",
    "            for l in range(dense_layer):\n",
    "                model.add(Dense(layer_size))\n",
    "                model.add(Activation(\"relu\"))\n",
    "                \n",
    "            model.add(Flatten())\n",
    "\n",
    "            # model.add(Dense(128))\n",
    "            # model.add(Activation(\"tanh\"))\n",
    "\n",
    "            model.add(Dense(1))\n",
    "            model.add(Activation(activation=\"sigmoid\"))\n",
    "            model.compile(optimizer=\"adam\",loss=\"binary_crossentropy\",metrics = [\"accuracy\"])\n",
    "            model.fit(x,y,batch_size=64,validation_split=0.1,callbacks=[tensorboard],epochs=2)"
   ]
  },
  {
   "cell_type": "code",
   "execution_count": 88,
   "metadata": {},
   "outputs": [],
   "source": [
    "model.save(\"Conv.model\")"
   ]
  },
  {
   "cell_type": "code",
   "execution_count": 28,
   "metadata": {},
   "outputs": [],
   "source": [
    "conv = tf.keras.models.load_model(\"Conv.model\")"
   ]
  },
  {
   "cell_type": "code",
   "execution_count": 29,
   "metadata": {},
   "outputs": [
    {
     "name": "stdout",
     "output_type": "stream",
     "text": [
      "_________________________________________________________________\n",
      "Layer (type)                 Output Shape              Param #   \n",
      "=================================================================\n",
      "conv2d_2 (Conv2D)            (None, 48, 48, 64)        640       \n",
      "_________________________________________________________________\n",
      "activation_4 (Activation)    (None, 48, 48, 64)        0         \n",
      "_________________________________________________________________\n",
      "max_pooling2d_2 (MaxPooling2 (None, 24, 24, 64)        0         \n",
      "_________________________________________________________________\n",
      "conv2d_3 (Conv2D)            (None, 22, 22, 64)        36928     \n",
      "_________________________________________________________________\n",
      "activation_5 (Activation)    (None, 22, 22, 64)        0         \n",
      "_________________________________________________________________\n",
      "max_pooling2d_3 (MaxPooling2 (None, 11, 11, 64)        0         \n",
      "_________________________________________________________________\n",
      "flatten_1 (Flatten)          (None, 7744)              0         \n",
      "_________________________________________________________________\n",
      "dense_2 (Dense)              (None, 64)                495680    \n",
      "_________________________________________________________________\n",
      "activation_6 (Activation)    (None, 64)                0         \n",
      "_________________________________________________________________\n",
      "dense_3 (Dense)              (None, 1)                 65        \n",
      "_________________________________________________________________\n",
      "activation_7 (Activation)    (None, 1)                 0         \n",
      "=================================================================\n",
      "Total params: 533,313\n",
      "Trainable params: 533,313\n",
      "Non-trainable params: 0\n",
      "_________________________________________________________________\n"
     ]
    }
   ],
   "source": [
    "conv.summary()"
   ]
  },
  {
   "cell_type": "code",
   "execution_count": 30,
   "metadata": {},
   "outputs": [],
   "source": [
    "pred = model.predict(x)"
   ]
  },
  {
   "cell_type": "code",
   "execution_count": 31,
   "metadata": {},
   "outputs": [
    {
     "data": {
      "text/plain": [
       "(10000, 1)"
      ]
     },
     "execution_count": 31,
     "metadata": {},
     "output_type": "execute_result"
    }
   ],
   "source": [
    "pred.shape"
   ]
  },
  {
   "cell_type": "code",
   "execution_count": 32,
   "metadata": {},
   "outputs": [],
   "source": [
    "import numpy as np"
   ]
  },
  {
   "cell_type": "code",
   "execution_count": 33,
   "metadata": {},
   "outputs": [],
   "source": [
    "predictions = np.zeros((x.shape[0],1))\n",
    "for i in range(pred.shape[0]):\n",
    "    predictions[i,0] = 1 if pred[i,0]>0.5 else 0"
   ]
  },
  {
   "cell_type": "code",
   "execution_count": 34,
   "metadata": {},
   "outputs": [],
   "source": [
    "true_labels = y.reshape(y.shape[0],1)"
   ]
  },
  {
   "cell_type": "code",
   "execution_count": 35,
   "metadata": {},
   "outputs": [],
   "source": [
    "accuracy = 100 - np.mean(np.abs(predictions-true_labels))*100"
   ]
  },
  {
   "cell_type": "code",
   "execution_count": 36,
   "metadata": {},
   "outputs": [
    {
     "name": "stdout",
     "output_type": "stream",
     "text": [
      "The accuracy of the model is: 68.68\n"
     ]
    }
   ],
   "source": [
    "print(\"The accuracy of the model is: %.2f\"%(accuracy))"
   ]
  }
 ],
 "metadata": {
  "kernelspec": {
   "display_name": "Python 3",
   "language": "python",
   "name": "python3"
  },
  "language_info": {
   "codemirror_mode": {
    "name": "ipython",
    "version": 3
   },
   "file_extension": ".py",
   "mimetype": "text/x-python",
   "name": "python",
   "nbconvert_exporter": "python",
   "pygments_lexer": "ipython3",
   "version": "3.5.2"
  },
  "widgets": {
   "state": {},
   "version": "1.1.2"
  }
 },
 "nbformat": 4,
 "nbformat_minor": 2
}
